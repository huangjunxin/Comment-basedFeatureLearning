{
 "cells": [
  {
   "cell_type": "code",
   "execution_count": 1,
   "outputs": [],
   "source": [
    "import pickle\n",
    "# 导入向量化后的数据集\n",
    "np_vectorized_tfidf = pickle.load(open('model/vectorized_generated_corpus_statistical_normalized.pkl', 'rb'))"
   ],
   "metadata": {
    "collapsed": false
   }
  },
  {
   "cell_type": "code",
   "execution_count": 2,
   "outputs": [],
   "source": [
    "# 读入正确标签（Labels）\n",
    "labels = []\n",
    "# 读入数据集\n",
    "with open('sixTypes-GeneratedLabels.txt', 'r', encoding='utf-8') as f:\n",
    "    for line in f.readlines():\n",
    "        labels.append(line.strip('\\n'))"
   ],
   "metadata": {
    "collapsed": false
   }
  },
  {
   "cell_type": "code",
   "execution_count": 3,
   "outputs": [
    {
     "name": "stdout",
     "output_type": "stream",
     "text": [
      "Fitting 5 folds for each of 10 candidates, totalling 50 fits\n",
      "[CV 1/5] END kmeans__n_clusters=6, lle__n_components=3, lle__n_neighbors=27;, score=0.133 total time=   0.5s\n",
      "[CV 2/5] END kmeans__n_clusters=6, lle__n_components=3, lle__n_neighbors=27;, score=0.022 total time=   0.3s\n",
      "[CV 3/5] END kmeans__n_clusters=6, lle__n_components=3, lle__n_neighbors=27;, score=0.137 total time=   0.3s\n",
      "[CV 4/5] END kmeans__n_clusters=6, lle__n_components=3, lle__n_neighbors=27;, score=0.016 total time=   0.3s\n",
      "[CV 5/5] END kmeans__n_clusters=6, lle__n_components=3, lle__n_neighbors=27;, score=0.007 total time=   0.3s\n",
      "[CV 1/5] END kmeans__n_clusters=6, lle__n_components=7, lle__n_neighbors=23;, score=0.028 total time=   0.3s\n",
      "[CV 2/5] END kmeans__n_clusters=6, lle__n_components=7, lle__n_neighbors=23;, score=0.021 total time=   0.3s\n",
      "[CV 3/5] END kmeans__n_clusters=6, lle__n_components=7, lle__n_neighbors=23;, score=0.059 total time=   0.4s\n",
      "[CV 4/5] END kmeans__n_clusters=6, lle__n_components=7, lle__n_neighbors=23;, score=0.068 total time=   0.3s\n",
      "[CV 5/5] END kmeans__n_clusters=6, lle__n_components=7, lle__n_neighbors=23;, score=0.114 total time=   0.3s\n",
      "[CV 1/5] END kmeans__n_clusters=6, lle__n_components=5, lle__n_neighbors=21;, score=0.159 total time=   0.4s\n",
      "[CV 2/5] END kmeans__n_clusters=6, lle__n_components=5, lle__n_neighbors=21;, score=0.044 total time=   0.6s\n",
      "[CV 3/5] END kmeans__n_clusters=6, lle__n_components=5, lle__n_neighbors=21;, score=0.038 total time=   0.4s\n",
      "[CV 4/5] END kmeans__n_clusters=6, lle__n_components=5, lle__n_neighbors=21;, score=0.120 total time=   0.3s\n",
      "[CV 5/5] END kmeans__n_clusters=6, lle__n_components=5, lle__n_neighbors=21;, score=0.028 total time=   0.3s\n",
      "[CV 1/5] END kmeans__n_clusters=6, lle__n_components=4, lle__n_neighbors=21;, score=0.126 total time=   0.3s\n",
      "[CV 2/5] END kmeans__n_clusters=6, lle__n_components=4, lle__n_neighbors=21;, score=0.086 total time=   0.3s\n",
      "[CV 3/5] END kmeans__n_clusters=6, lle__n_components=4, lle__n_neighbors=21;, score=0.065 total time=   0.3s\n",
      "[CV 4/5] END kmeans__n_clusters=6, lle__n_components=4, lle__n_neighbors=21;, score=0.132 total time=   0.3s\n",
      "[CV 5/5] END kmeans__n_clusters=6, lle__n_components=4, lle__n_neighbors=21;, score=0.035 total time=   0.3s\n",
      "[CV 1/5] END kmeans__n_clusters=6, lle__n_components=6, lle__n_neighbors=22;, score=0.124 total time=   0.3s\n",
      "[CV 2/5] END kmeans__n_clusters=6, lle__n_components=6, lle__n_neighbors=22;, score=0.031 total time=   0.3s\n",
      "[CV 3/5] END kmeans__n_clusters=6, lle__n_components=6, lle__n_neighbors=22;, score=0.016 total time=   0.3s\n",
      "[CV 4/5] END kmeans__n_clusters=6, lle__n_components=6, lle__n_neighbors=22;, score=0.091 total time=   0.3s\n",
      "[CV 5/5] END kmeans__n_clusters=6, lle__n_components=6, lle__n_neighbors=22;, score=0.019 total time=   0.3s\n",
      "[CV 1/5] END kmeans__n_clusters=6, lle__n_components=7, lle__n_neighbors=9;, score=0.395 total time=   0.2s\n",
      "[CV 2/5] END kmeans__n_clusters=6, lle__n_components=7, lle__n_neighbors=9;, score=0.188 total time=   0.2s\n",
      "[CV 3/5] END kmeans__n_clusters=6, lle__n_components=7, lle__n_neighbors=9;, score=0.035 total time=   0.2s\n",
      "[CV 4/5] END kmeans__n_clusters=6, lle__n_components=7, lle__n_neighbors=9;, score=0.032 total time=   0.2s\n",
      "[CV 5/5] END kmeans__n_clusters=6, lle__n_components=7, lle__n_neighbors=9;, score=0.194 total time=   0.2s\n",
      "[CV 1/5] END kmeans__n_clusters=6, lle__n_components=2, lle__n_neighbors=19;, score=0.128 total time=   0.3s\n",
      "[CV 2/5] END kmeans__n_clusters=6, lle__n_components=2, lle__n_neighbors=19;, score=0.076 total time=   0.3s\n",
      "[CV 3/5] END kmeans__n_clusters=6, lle__n_components=2, lle__n_neighbors=19;, score=0.013 total time=   0.3s\n",
      "[CV 4/5] END kmeans__n_clusters=6, lle__n_components=2, lle__n_neighbors=19;, score=0.060 total time=   0.3s\n",
      "[CV 5/5] END kmeans__n_clusters=6, lle__n_components=2, lle__n_neighbors=19;, score=0.007 total time=   0.3s\n",
      "[CV 1/5] END kmeans__n_clusters=6, lle__n_components=6, lle__n_neighbors=13;, score=0.293 total time=   0.2s\n",
      "[CV 2/5] END kmeans__n_clusters=6, lle__n_components=6, lle__n_neighbors=13;, score=0.145 total time=   0.2s\n",
      "[CV 3/5] END kmeans__n_clusters=6, lle__n_components=6, lle__n_neighbors=13;, score=0.027 total time=   0.2s\n",
      "[CV 4/5] END kmeans__n_clusters=6, lle__n_components=6, lle__n_neighbors=13;, score=0.016 total time=   0.2s\n",
      "[CV 5/5] END kmeans__n_clusters=6, lle__n_components=6, lle__n_neighbors=13;, score=0.176 total time=   0.2s\n",
      "[CV 1/5] END kmeans__n_clusters=6, lle__n_components=7, lle__n_neighbors=2;, score=0.074 total time=   0.1s\n",
      "[CV 2/5] END kmeans__n_clusters=6, lle__n_components=7, lle__n_neighbors=2;, score=0.059 total time=   0.1s\n",
      "[CV 3/5] END kmeans__n_clusters=6, lle__n_components=7, lle__n_neighbors=2;, score=0.049 total time=   0.1s\n",
      "[CV 4/5] END kmeans__n_clusters=6, lle__n_components=7, lle__n_neighbors=2;, score=0.082 total time=   0.1s\n",
      "[CV 5/5] END kmeans__n_clusters=6, lle__n_components=7, lle__n_neighbors=2;, score=0.044 total time=   0.1s\n",
      "[CV 1/5] END kmeans__n_clusters=6, lle__n_components=4, lle__n_neighbors=13;, score=0.261 total time=   0.2s\n",
      "[CV 2/5] END kmeans__n_clusters=6, lle__n_components=4, lle__n_neighbors=13;, score=0.050 total time=   0.2s\n",
      "[CV 3/5] END kmeans__n_clusters=6, lle__n_components=4, lle__n_neighbors=13;, score=0.054 total time=   0.2s\n",
      "[CV 4/5] END kmeans__n_clusters=6, lle__n_components=4, lle__n_neighbors=13;, score=0.046 total time=   0.2s\n",
      "[CV 5/5] END kmeans__n_clusters=6, lle__n_components=4, lle__n_neighbors=13;, score=0.303 total time=   0.2s\n",
      "best_estimator Pipeline(steps=[('lle', LocallyLinearEmbedding(n_components=7, n_neighbors=9)),\n",
      "                ('kmeans', KMeans(n_clusters=6, random_state=9))])\n",
      "V-measure: 0.6146788730224723\n"
     ]
    }
   ],
   "source": [
    "# 利用 RandomizedSearchCV 搜索不同的 维度 和 gamma 值来找到最优解（利用 V-measure 评估）\n",
    "\n",
    "# Import required libraries\n",
    "from sklearn.model_selection import RandomizedSearchCV\n",
    "from sklearn.manifold import LocallyLinearEmbedding\n",
    "from sklearn.cluster import KMeans\n",
    "from sklearn.pipeline import Pipeline\n",
    "from sklearn.metrics import v_measure_score\n",
    "\n",
    "# Define the parameter values that want to search\n",
    "param_grid = {\n",
    "    'lle__n_components': range(2, 11),\n",
    "    'lle__n_neighbors': range(2, 31),\n",
    "    'kmeans__n_clusters': range(6, 7)\n",
    "}\n",
    "\n",
    "# Define a scoring function that takes in y_true and y_pred as arguments and returns the v_measure_score\n",
    "def v_measure_scorer(estimator, X, y_true):\n",
    "    y_pred = estimator.predict(X)\n",
    "    return v_measure_score(y_true, y_pred)\n",
    "\n",
    "# Create a randomize search object\n",
    "lle = LocallyLinearEmbedding()\n",
    "kmeans = KMeans(init='k-means++', random_state=9)\n",
    "model = Pipeline([('lle', lle), ('kmeans', kmeans)])\n",
    "random_search = RandomizedSearchCV(model, param_distributions=param_grid, n_iter=10, cv=5, random_state=9, scoring=v_measure_scorer, verbose=3)\n",
    "\n",
    "# Fit the random search object to the data\n",
    "random_search.fit(np_vectorized_tfidf, labels)\n",
    "\n",
    "# Get the best estimator\n",
    "best_estimator = random_search.best_estimator_\n",
    "print('best_estimator', best_estimator)\n",
    "\n",
    "# Use the best estimator to make predictions\n",
    "y_pred = best_estimator.predict(np_vectorized_tfidf)\n",
    "\n",
    "# Use V-measure to evaluate the clustering results\n",
    "score = v_measure_score(labels, y_pred)\n",
    "print('V-measure:', score)"
   ],
   "metadata": {
    "collapsed": false
   }
  },
  {
   "cell_type": "code",
   "execution_count": 4,
   "outputs": [],
   "source": [
    "from sklearn.manifold import LocallyLinearEmbedding\n",
    "# 选用最优解维数用 LLE 降维\n",
    "lle = LocallyLinearEmbedding(n_components=7, n_neighbors=9)\n",
    "decomposition_data = lle.fit_transform(np_vectorized_tfidf)"
   ],
   "metadata": {
    "collapsed": false
   }
  },
  {
   "cell_type": "code",
   "execution_count": 5,
   "outputs": [],
   "source": [
    "# 选用 k 值做 K-means 算法聚类\n",
    "y_pred = KMeans(n_clusters=6, init='k-means++', random_state=9).fit_predict(decomposition_data)"
   ],
   "metadata": {
    "collapsed": false
   }
  },
  {
   "cell_type": "code",
   "execution_count": 6,
   "outputs": [
    {
     "name": "stdout",
     "output_type": "stream",
     "text": [
      "[3 3 3 3 1 3 3 3 3 3]\n"
     ]
    }
   ],
   "source": [
    "print(y_pred[:10])"
   ],
   "metadata": {
    "collapsed": false
   }
  },
  {
   "cell_type": "code",
   "execution_count": 7,
   "outputs": [],
   "source": [
    "from sklearn import metrics"
   ],
   "metadata": {
    "collapsed": false
   }
  },
  {
   "cell_type": "code",
   "execution_count": 8,
   "outputs": [
    {
     "name": "stdout",
     "output_type": "stream",
     "text": [
      "297.01\n",
      "0.3781\n",
      "0.5588\n",
      "0.6803\n",
      "0.6136\n",
      "0.4200\n",
      "0.6110\n",
      "0.5613\n"
     ]
    }
   ],
   "source": [
    "print('%.2f' % metrics.calinski_harabasz_score(decomposition_data, y_pred))\n",
    "km = KMeans(n_clusters=6, random_state=9)\n",
    "y_pred = km.fit_predict(decomposition_data)\n",
    "print('%.4f' % metrics.silhouette_score(decomposition_data, km.labels_, metric='euclidean'))\n",
    "print('%.4f' % metrics.homogeneity_score(labels, y_pred))\n",
    "print('%.4f' % metrics.completeness_score(labels, y_pred))\n",
    "print('%.4f' % metrics.v_measure_score(labels, y_pred))\n",
    "print('%.4f' % metrics.adjusted_rand_score(labels, y_pred))\n",
    "print('%.4f' % metrics.adjusted_mutual_info_score(labels, y_pred))\n",
    "print('%.4f' % metrics.fowlkes_mallows_score(labels, y_pred))"
   ],
   "metadata": {
    "collapsed": false
   }
  },
  {
   "cell_type": "code",
   "execution_count": 80,
   "outputs": [
    {
     "data": {
      "text/plain": "8358.12173286958"
     },
     "execution_count": 80,
     "metadata": {},
     "output_type": "execute_result"
    }
   ],
   "source": [
    "# 利用 Calinski Harabasz Score 评估当前 K-Means 聚类效果（利用 TFIDF 表征）\n",
    "metrics.calinski_harabasz_score(decomposition_data, y_pred)"
   ],
   "metadata": {
    "collapsed": false
   }
  },
  {
   "cell_type": "code",
   "execution_count": 81,
   "outputs": [
    {
     "data": {
      "text/plain": "0.7227561603932742"
     },
     "execution_count": 81,
     "metadata": {},
     "output_type": "execute_result"
    }
   ],
   "source": [
    "# 利用 Silhouette Score（轮廓系数）评估当前 K-Means 聚类效果（利用 TFIDF 表征）\n",
    "km = KMeans(n_clusters=6, random_state=9)\n",
    "y_pred = km.fit_predict(decomposition_data)\n",
    "metrics.silhouette_score(decomposition_data, km.labels_, metric='euclidean')"
   ],
   "metadata": {
    "collapsed": false
   }
  },
  {
   "cell_type": "code",
   "execution_count": 82,
   "outputs": [],
   "source": [
    "# 读入正确标签（Labels）\n",
    "labels = []\n",
    "# 读入数据集\n",
    "with open('sixTypes-GeneratedLabels.txt', 'r', encoding='utf-8') as f:\n",
    "    for line in f.readlines():\n",
    "        labels.append(line.strip('\\n'))"
   ],
   "metadata": {
    "collapsed": false
   }
  },
  {
   "cell_type": "code",
   "execution_count": 83,
   "outputs": [
    {
     "data": {
      "text/plain": "['CP', 'CP', 'CP', 'CP', 'CP', 'CP', 'CP', 'CP', 'CP', 'CP']"
     },
     "execution_count": 83,
     "metadata": {},
     "output_type": "execute_result"
    }
   ],
   "source": [
    "labels[:10]"
   ],
   "metadata": {
    "collapsed": false
   }
  },
  {
   "cell_type": "code",
   "execution_count": 84,
   "outputs": [
    {
     "data": {
      "text/plain": "0.682122778322645"
     },
     "execution_count": 84,
     "metadata": {},
     "output_type": "execute_result"
    }
   ],
   "source": [
    "# 利用 Homogeneity 评估当前 K-Means 聚类效果（利用 TFIDF 表征）\n",
    "metrics.homogeneity_score(labels, y_pred)"
   ],
   "metadata": {
    "collapsed": false
   }
  },
  {
   "cell_type": "code",
   "execution_count": 85,
   "outputs": [
    {
     "data": {
      "text/plain": "0.7476119515684342"
     },
     "execution_count": 85,
     "metadata": {},
     "output_type": "execute_result"
    }
   ],
   "source": [
    "# 利用 Completeness 评估当前 K-Means 聚类效果（利用 TFIDF 表征）\n",
    "metrics.completeness_score(labels, y_pred)"
   ],
   "metadata": {
    "collapsed": false
   }
  },
  {
   "cell_type": "code",
   "execution_count": 86,
   "outputs": [
    {
     "data": {
      "text/plain": "0.7133674951715347"
     },
     "execution_count": 86,
     "metadata": {},
     "output_type": "execute_result"
    }
   ],
   "source": [
    "# 利用 V-measure 评估当前 K-Means 聚类效果（利用 TFIDF 表征）\n",
    "metrics.v_measure_score(labels, y_pred)"
   ],
   "metadata": {
    "collapsed": false
   }
  },
  {
   "cell_type": "code",
   "execution_count": 87,
   "outputs": [
    {
     "data": {
      "text/plain": "0.5925578028425994"
     },
     "execution_count": 87,
     "metadata": {},
     "output_type": "execute_result"
    }
   ],
   "source": [
    "# 利用 Adjusted Rand Index（调整兰德系数）评估当前 K-Means 聚类效果（利用 TFIDF 表征）\n",
    "metrics.adjusted_rand_score(labels, y_pred)"
   ],
   "metadata": {
    "collapsed": false
   }
  },
  {
   "cell_type": "code",
   "execution_count": 88,
   "outputs": [
    {
     "data": {
      "text/plain": "0.7115960614082019"
     },
     "execution_count": 88,
     "metadata": {},
     "output_type": "execute_result"
    }
   ],
   "source": [
    "# 利用 Adjusted Mutual Information Score（调整互信息）评估当前 K-Means 聚类效果（利用 TFIDF 表征）\n",
    "metrics.adjusted_mutual_info_score(labels, y_pred)"
   ],
   "metadata": {
    "collapsed": false
   }
  },
  {
   "cell_type": "code",
   "execution_count": 89,
   "outputs": [
    {
     "data": {
      "text/plain": "0.6776284744379846"
     },
     "execution_count": 89,
     "metadata": {},
     "output_type": "execute_result"
    }
   ],
   "source": [
    "# 利用 Fowlkes-Mallows scores 评估当前 K-Means 聚类效果（利用 TFIDF 表征）\n",
    "metrics.fowlkes_mallows_score(labels, y_pred)"
   ],
   "metadata": {
    "collapsed": false
   }
  },
  {
   "cell_type": "code",
   "execution_count": null,
   "outputs": [],
   "source": [],
   "metadata": {
    "collapsed": false
   }
  }
 ],
 "metadata": {
  "kernelspec": {
   "display_name": "Python 3",
   "language": "python",
   "name": "python3"
  },
  "language_info": {
   "codemirror_mode": {
    "name": "ipython",
    "version": 2
   },
   "file_extension": ".py",
   "mimetype": "text/x-python",
   "name": "python",
   "nbconvert_exporter": "python",
   "pygments_lexer": "ipython2",
   "version": "2.7.6"
  }
 },
 "nbformat": 4,
 "nbformat_minor": 0
}
