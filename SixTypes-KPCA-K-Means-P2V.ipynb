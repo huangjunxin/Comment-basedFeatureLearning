{
 "cells": [
  {
   "cell_type": "code",
   "execution_count": 1,
   "outputs": [],
   "source": [
    "import pickle\n",
    "# 导入向量化后的数据集\n",
    "np_vectorized_tfidf = pickle.load(open('model/vectorized_generated_corpus_doc2vec.pkl', 'rb'))"
   ],
   "metadata": {
    "collapsed": false
   }
  },
  {
   "cell_type": "code",
   "execution_count": 2,
   "outputs": [],
   "source": [
    "# 读入正确标签（Labels）\n",
    "labels = []\n",
    "# 读入数据集\n",
    "with open('sixTypes-GeneratedLabels.txt', 'r', encoding='utf-8') as f:\n",
    "    for line in f.readlines():\n",
    "        labels.append(line.strip('\\n'))"
   ],
   "metadata": {
    "collapsed": false
   }
  },
  {
   "cell_type": "code",
   "execution_count": 3,
   "outputs": [
    {
     "name": "stdout",
     "output_type": "stream",
     "text": [
      "Fitting 5 folds for each of 10 candidates, totalling 50 fits\n",
      "[CV 1/5] END kmeans__n_clusters=6, kpca__gamma=0.10374153885699955, kpca__n_components=7;, score=0.016 total time=   0.3s\n",
      "[CV 2/5] END kmeans__n_clusters=6, kpca__gamma=0.10374153885699955, kpca__n_components=7;, score=0.356 total time=   0.0s\n",
      "[CV 3/5] END kmeans__n_clusters=6, kpca__gamma=0.10374153885699955, kpca__n_components=7;, score=0.266 total time=   0.1s\n",
      "[CV 4/5] END kmeans__n_clusters=6, kpca__gamma=0.10374153885699955, kpca__n_components=7;, score=0.007 total time=   0.1s\n",
      "[CV 5/5] END kmeans__n_clusters=6, kpca__gamma=0.10374153885699955, kpca__n_components=7;, score=0.006 total time=   0.1s\n",
      "[CV 1/5] END kmeans__n_clusters=6, kpca__gamma=4.957732931341461, kpca__n_components=8;, score=0.016 total time=   0.0s\n",
      "[CV 2/5] END kmeans__n_clusters=6, kpca__gamma=4.957732931341461, kpca__n_components=8;, score=0.379 total time=   0.1s\n",
      "[CV 3/5] END kmeans__n_clusters=6, kpca__gamma=4.957732931341461, kpca__n_components=8;, score=0.267 total time=   0.1s\n",
      "[CV 4/5] END kmeans__n_clusters=6, kpca__gamma=4.957732931341461, kpca__n_components=8;, score=0.007 total time=   0.0s\n",
      "[CV 5/5] END kmeans__n_clusters=6, kpca__gamma=4.957732931341461, kpca__n_components=8;, score=0.005 total time=   0.0s\n",
      "[CV 1/5] END kmeans__n_clusters=6, kpca__gamma=1.4211108545453854, kpca__n_components=8;, score=0.016 total time=   0.0s\n",
      "[CV 2/5] END kmeans__n_clusters=6, kpca__gamma=1.4211108545453854, kpca__n_components=8;, score=0.356 total time=   0.0s\n",
      "[CV 3/5] END kmeans__n_clusters=6, kpca__gamma=1.4211108545453854, kpca__n_components=8;, score=0.263 total time=   0.0s\n",
      "[CV 4/5] END kmeans__n_clusters=6, kpca__gamma=1.4211108545453854, kpca__n_components=8;, score=0.007 total time=   0.0s\n",
      "[CV 5/5] END kmeans__n_clusters=6, kpca__gamma=1.4211108545453854, kpca__n_components=8;, score=0.006 total time=   0.0s\n",
      "[CV 1/5] END kmeans__n_clusters=6, kpca__gamma=8.772212074585868, kpca__n_components=10;, score=0.016 total time=   0.1s\n",
      "[CV 2/5] END kmeans__n_clusters=6, kpca__gamma=8.772212074585868, kpca__n_components=10;, score=0.362 total time=   0.1s\n",
      "[CV 3/5] END kmeans__n_clusters=6, kpca__gamma=8.772212074585868, kpca__n_components=10;, score=0.267 total time=   0.1s\n",
      "[CV 4/5] END kmeans__n_clusters=6, kpca__gamma=8.772212074585868, kpca__n_components=10;, score=0.007 total time=   0.1s\n",
      "[CV 5/5] END kmeans__n_clusters=6, kpca__gamma=8.772212074585868, kpca__n_components=10;, score=0.005 total time=   0.0s\n",
      "[CV 1/5] END kmeans__n_clusters=6, kpca__gamma=2.4810116841355914, kpca__n_components=10;, score=0.016 total time=   0.1s\n",
      "[CV 2/5] END kmeans__n_clusters=6, kpca__gamma=2.4810116841355914, kpca__n_components=10;, score=0.356 total time=   0.1s\n",
      "[CV 3/5] END kmeans__n_clusters=6, kpca__gamma=2.4810116841355914, kpca__n_components=10;, score=0.263 total time=   0.1s\n",
      "[CV 4/5] END kmeans__n_clusters=6, kpca__gamma=2.4810116841355914, kpca__n_components=10;, score=0.006 total time=   0.1s\n",
      "[CV 5/5] END kmeans__n_clusters=6, kpca__gamma=2.4810116841355914, kpca__n_components=10;, score=0.007 total time=   0.1s\n",
      "[CV 1/5] END kmeans__n_clusters=6, kpca__gamma=3.9588585008307273, kpca__n_components=3;, score=0.016 total time=   0.0s\n",
      "[CV 2/5] END kmeans__n_clusters=6, kpca__gamma=3.9588585008307273, kpca__n_components=3;, score=0.362 total time=   0.0s\n",
      "[CV 3/5] END kmeans__n_clusters=6, kpca__gamma=3.9588585008307273, kpca__n_components=3;, score=0.263 total time=   0.0s\n",
      "[CV 4/5] END kmeans__n_clusters=6, kpca__gamma=3.9588585008307273, kpca__n_components=3;, score=0.007 total time=   0.0s\n",
      "[CV 5/5] END kmeans__n_clusters=6, kpca__gamma=3.9588585008307273, kpca__n_components=3;, score=0.005 total time=   0.0s\n",
      "[CV 1/5] END kmeans__n_clusters=6, kpca__gamma=1.6677634653232143, kpca__n_components=2;, score=0.017 total time=   0.0s\n",
      "[CV 2/5] END kmeans__n_clusters=6, kpca__gamma=1.6677634653232143, kpca__n_components=2;, score=0.367 total time=   0.0s\n",
      "[CV 3/5] END kmeans__n_clusters=6, kpca__gamma=1.6677634653232143, kpca__n_components=2;, score=0.265 total time=   0.0s\n",
      "[CV 4/5] END kmeans__n_clusters=6, kpca__gamma=1.6677634653232143, kpca__n_components=2;, score=0.007 total time=   0.0s\n",
      "[CV 5/5] END kmeans__n_clusters=6, kpca__gamma=1.6677634653232143, kpca__n_components=2;, score=0.006 total time=   0.0s\n",
      "[CV 1/5] END kmeans__n_clusters=6, kpca__gamma=3.7395118140402452, kpca__n_components=10;, score=0.016 total time=   0.1s\n",
      "[CV 2/5] END kmeans__n_clusters=6, kpca__gamma=3.7395118140402452, kpca__n_components=10;, score=0.379 total time=   0.1s\n",
      "[CV 3/5] END kmeans__n_clusters=6, kpca__gamma=3.7395118140402452, kpca__n_components=10;, score=0.262 total time=   0.1s\n",
      "[CV 4/5] END kmeans__n_clusters=6, kpca__gamma=3.7395118140402452, kpca__n_components=10;, score=0.006 total time=   0.1s\n",
      "[CV 5/5] END kmeans__n_clusters=6, kpca__gamma=3.7395118140402452, kpca__n_components=10;, score=0.006 total time=   0.1s\n",
      "[CV 1/5] END kmeans__n_clusters=6, kpca__gamma=9.679040811889424, kpca__n_components=10;, score=0.016 total time=   0.1s\n",
      "[CV 2/5] END kmeans__n_clusters=6, kpca__gamma=9.679040811889424, kpca__n_components=10;, score=0.377 total time=   0.0s\n",
      "[CV 3/5] END kmeans__n_clusters=6, kpca__gamma=9.679040811889424, kpca__n_components=10;, score=0.267 total time=   0.1s\n",
      "[CV 4/5] END kmeans__n_clusters=6, kpca__gamma=9.679040811889424, kpca__n_components=10;, score=0.007 total time=   0.0s\n",
      "[CV 5/5] END kmeans__n_clusters=6, kpca__gamma=9.679040811889424, kpca__n_components=10;, score=0.005 total time=   0.1s\n",
      "[CV 1/5] END kmeans__n_clusters=6, kpca__gamma=6.668989729196366, kpca__n_components=8;, score=0.016 total time=   0.0s\n",
      "[CV 2/5] END kmeans__n_clusters=6, kpca__gamma=6.668989729196366, kpca__n_components=8;, score=0.367 total time=   0.0s\n",
      "[CV 3/5] END kmeans__n_clusters=6, kpca__gamma=6.668989729196366, kpca__n_components=8;, score=0.267 total time=   0.0s\n",
      "[CV 4/5] END kmeans__n_clusters=6, kpca__gamma=6.668989729196366, kpca__n_components=8;, score=0.007 total time=   0.0s\n",
      "[CV 5/5] END kmeans__n_clusters=6, kpca__gamma=6.668989729196366, kpca__n_components=8;, score=0.005 total time=   0.0s\n",
      "best_estimator Pipeline(steps=[('kpca',\n",
      "                 KernelPCA(gamma=4.957732931341461, kernel='rbf',\n",
      "                           n_components=8, random_state=9)),\n",
      "                ('kmeans', KMeans(n_clusters=6, random_state=9))])\n",
      "V-measure: 0.20296436415073524\n"
     ]
    }
   ],
   "source": [
    "# 利用 RandomizedSearchCV 搜索不同的 维度 和 gamma 值来找到最优解（利用 V-measure 评估）\n",
    "\n",
    "# Import required libraries\n",
    "from sklearn.model_selection import RandomizedSearchCV\n",
    "from sklearn.decomposition import KernelPCA\n",
    "from sklearn.cluster import KMeans\n",
    "from sklearn.pipeline import Pipeline\n",
    "from sklearn.metrics import v_measure_score\n",
    "from scipy.stats import uniform\n",
    "\n",
    "# Define the parameter values that want to search\n",
    "param_grid = {\n",
    "    'kpca__n_components': range(2, 11),\n",
    "    'kpca__gamma': uniform(0, 10),\n",
    "    'kmeans__n_clusters': range(6, 7)\n",
    "}\n",
    "\n",
    "# Define a scoring function that takes in y_true and y_pred as arguments and returns the v_measure_score\n",
    "def v_measure_scorer(estimator, X, y_true):\n",
    "    y_pred = estimator.predict(X)\n",
    "    return v_measure_score(y_true, y_pred)\n",
    "\n",
    "# Create a randomize search object\n",
    "kpca = KernelPCA(kernel='rbf', random_state=9)\n",
    "kmeans = KMeans(init='k-means++', random_state=9)\n",
    "model = Pipeline([('kpca', kpca), ('kmeans', kmeans)])\n",
    "random_search = RandomizedSearchCV(model, param_distributions=param_grid, n_iter=10, cv=5, random_state=9, scoring=v_measure_scorer, verbose=3)\n",
    "\n",
    "# Fit the random search object to the data\n",
    "random_search.fit(np_vectorized_tfidf, labels)\n",
    "\n",
    "# Get the best estimator\n",
    "best_estimator = random_search.best_estimator_\n",
    "print('best_estimator', best_estimator)\n",
    "\n",
    "# Use the best estimator to make predictions\n",
    "y_pred = best_estimator.predict(np_vectorized_tfidf)\n",
    "\n",
    "# Use V-measure to evaluate the clustering results\n",
    "score = v_measure_score(labels, y_pred)\n",
    "print('V-measure:', score)"
   ],
   "metadata": {
    "collapsed": false
   }
  },
  {
   "cell_type": "code",
   "execution_count": 4,
   "outputs": [],
   "source": [
    "# 选用最优解维数用 KPCA 降维\n",
    "kpca = KernelPCA(n_components=8, kernel='rbf', gamma=4.957732931341461, random_state=9)\n",
    "decomposition_data = kpca.fit_transform(np_vectorized_tfidf)"
   ],
   "metadata": {
    "collapsed": false
   }
  },
  {
   "cell_type": "code",
   "execution_count": 5,
   "outputs": [],
   "source": [
    "# 选用 k 值做 K-means 算法聚类\n",
    "y_pred = KMeans(n_clusters=6, init='k-means++', random_state=9).fit_predict(decomposition_data)"
   ],
   "metadata": {
    "collapsed": false
   }
  },
  {
   "cell_type": "code",
   "execution_count": 6,
   "outputs": [
    {
     "name": "stdout",
     "output_type": "stream",
     "text": [
      "[3 1 0 3 1 0 0 0 3 1]\n"
     ]
    }
   ],
   "source": [
    "print(y_pred[:10])"
   ],
   "metadata": {
    "collapsed": false
   }
  },
  {
   "cell_type": "code",
   "execution_count": 7,
   "outputs": [],
   "source": [
    "from sklearn import metrics"
   ],
   "metadata": {
    "collapsed": false
   }
  },
  {
   "cell_type": "code",
   "execution_count": 8,
   "outputs": [
    {
     "name": "stdout",
     "output_type": "stream",
     "text": [
      "1092.05\n",
      "0.3447\n",
      "0.1940\n",
      "0.2127\n",
      "0.2030\n",
      "0.0891\n",
      "0.1980\n",
      "0.2629\n"
     ]
    }
   ],
   "source": [
    "print('%.2f' % metrics.calinski_harabasz_score(decomposition_data, y_pred))\n",
    "km = KMeans(n_clusters=6, random_state=9)\n",
    "y_pred = km.fit_predict(decomposition_data)\n",
    "print('%.4f' % metrics.silhouette_score(decomposition_data, km.labels_, metric='euclidean'))\n",
    "print('%.4f' % metrics.homogeneity_score(labels, y_pred))\n",
    "print('%.4f' % metrics.completeness_score(labels, y_pred))\n",
    "print('%.4f' % metrics.v_measure_score(labels, y_pred))\n",
    "print('%.4f' % metrics.adjusted_rand_score(labels, y_pred))\n",
    "print('%.4f' % metrics.adjusted_mutual_info_score(labels, y_pred))\n",
    "print('%.4f' % metrics.fowlkes_mallows_score(labels, y_pred))"
   ],
   "metadata": {
    "collapsed": false
   }
  },
  {
   "cell_type": "code",
   "execution_count": 35,
   "outputs": [
    {
     "data": {
      "text/plain": "2523.0732557850483"
     },
     "execution_count": 35,
     "metadata": {},
     "output_type": "execute_result"
    }
   ],
   "source": [
    "# 利用 Calinski Harabasz Score 评估当前 K-Means 聚类效果（利用 TFIDF 表征）\n",
    "metrics.calinski_harabasz_score(decomposition_data, y_pred)"
   ],
   "metadata": {
    "collapsed": false
   }
  },
  {
   "cell_type": "code",
   "execution_count": 36,
   "outputs": [
    {
     "data": {
      "text/plain": "0.49615210375981617"
     },
     "execution_count": 36,
     "metadata": {},
     "output_type": "execute_result"
    }
   ],
   "source": [
    "# 利用 Silhouette Score（轮廓系数）评估当前 K-Means 聚类效果（利用 TFIDF 表征）\n",
    "km = KMeans(n_clusters=6, random_state=9)\n",
    "y_pred = km.fit_predict(decomposition_data)\n",
    "metrics.silhouette_score(decomposition_data, km.labels_, metric='euclidean')"
   ],
   "metadata": {
    "collapsed": false
   }
  },
  {
   "cell_type": "code",
   "execution_count": 37,
   "outputs": [],
   "source": [
    "# 读入正确标签（Labels）\n",
    "labels = []\n",
    "# 读入数据集\n",
    "with open('sixTypes-GeneratedLabels.txt', 'r', encoding='utf-8') as f:\n",
    "    for line in f.readlines():\n",
    "        labels.append(line.strip('\\n'))"
   ],
   "metadata": {
    "collapsed": false
   }
  },
  {
   "cell_type": "code",
   "execution_count": 38,
   "outputs": [
    {
     "data": {
      "text/plain": "['CP', 'CP', 'CP', 'CP', 'CP', 'CP', 'CP', 'CP', 'CP', 'CP']"
     },
     "execution_count": 38,
     "metadata": {},
     "output_type": "execute_result"
    }
   ],
   "source": [
    "labels[:10]"
   ],
   "metadata": {
    "collapsed": false
   }
  },
  {
   "cell_type": "code",
   "execution_count": 39,
   "outputs": [
    {
     "data": {
      "text/plain": "0.5201727046123753"
     },
     "execution_count": 39,
     "metadata": {},
     "output_type": "execute_result"
    }
   ],
   "source": [
    "# 利用 Homogeneity 评估当前 K-Means 聚类效果（利用 TFIDF 表征）\n",
    "metrics.homogeneity_score(labels, y_pred)"
   ],
   "metadata": {
    "collapsed": false
   }
  },
  {
   "cell_type": "code",
   "execution_count": 40,
   "outputs": [
    {
     "data": {
      "text/plain": "0.6141185157433506"
     },
     "execution_count": 40,
     "metadata": {},
     "output_type": "execute_result"
    }
   ],
   "source": [
    "# 利用 Completeness 评估当前 K-Means 聚类效果（利用 TFIDF 表征）\n",
    "metrics.completeness_score(labels, y_pred)"
   ],
   "metadata": {
    "collapsed": false
   }
  },
  {
   "cell_type": "code",
   "execution_count": 41,
   "outputs": [
    {
     "data": {
      "text/plain": "0.5632551562667902"
     },
     "execution_count": 41,
     "metadata": {},
     "output_type": "execute_result"
    }
   ],
   "source": [
    "# 利用 V-measure 评估当前 K-Means 聚类效果（利用 TFIDF 表征）\n",
    "metrics.v_measure_score(labels, y_pred)"
   ],
   "metadata": {
    "collapsed": false
   }
  },
  {
   "cell_type": "code",
   "execution_count": 42,
   "outputs": [
    {
     "data": {
      "text/plain": "0.3474011625813265"
     },
     "execution_count": 42,
     "metadata": {},
     "output_type": "execute_result"
    }
   ],
   "source": [
    "# 利用 Adjusted Rand Index（调整兰德系数）评估当前 K-Means 聚类效果（利用 TFIDF 表征）\n",
    "metrics.adjusted_rand_score(labels, y_pred)"
   ],
   "metadata": {
    "collapsed": false
   }
  },
  {
   "cell_type": "code",
   "execution_count": 43,
   "outputs": [
    {
     "data": {
      "text/plain": "0.5604570770108419"
     },
     "execution_count": 43,
     "metadata": {},
     "output_type": "execute_result"
    }
   ],
   "source": [
    "# 利用 Adjusted Mutual Information Score（调整互信息）评估当前 K-Means 聚类效果（利用 TFIDF 表征）\n",
    "metrics.adjusted_mutual_info_score(labels, y_pred)"
   ],
   "metadata": {
    "collapsed": false
   }
  },
  {
   "cell_type": "code",
   "execution_count": 44,
   "outputs": [
    {
     "data": {
      "text/plain": "0.4977517378698821"
     },
     "execution_count": 44,
     "metadata": {},
     "output_type": "execute_result"
    }
   ],
   "source": [
    "# 利用 Fowlkes-Mallows scores 评估当前 K-Means 聚类效果（利用 TFIDF 表征）\n",
    "metrics.fowlkes_mallows_score(labels, y_pred)"
   ],
   "metadata": {
    "collapsed": false
   }
  },
  {
   "cell_type": "code",
   "execution_count": null,
   "outputs": [],
   "source": [],
   "metadata": {
    "collapsed": false
   }
  }
 ],
 "metadata": {
  "kernelspec": {
   "display_name": "Python 3",
   "language": "python",
   "name": "python3"
  },
  "language_info": {
   "codemirror_mode": {
    "name": "ipython",
    "version": 2
   },
   "file_extension": ".py",
   "mimetype": "text/x-python",
   "name": "python",
   "nbconvert_exporter": "python",
   "pygments_lexer": "ipython2",
   "version": "2.7.6"
  }
 },
 "nbformat": 4,
 "nbformat_minor": 0
}
