{
 "cells": [
  {
   "cell_type": "code",
   "execution_count": 1,
   "outputs": [],
   "source": [
    "import random\n",
    "import matplotlib.pyplot as plt"
   ],
   "metadata": {
    "collapsed": false
   }
  },
  {
   "cell_type": "markdown",
   "source": [
    "## 1 Generate the length of each comment based on the normal distribution"
   ],
   "metadata": {
    "collapsed": false
   }
  },
  {
   "cell_type": "markdown",
   "source": [
    "The size of the data set to be generated (default is 1200, each type is 200)"
   ],
   "metadata": {
    "collapsed": false
   }
  },
  {
   "cell_type": "code",
   "execution_count": 61,
   "outputs": [],
   "source": [
    "wantedSize = 1200"
   ],
   "metadata": {
    "collapsed": false
   }
  },
  {
   "cell_type": "code",
   "execution_count": 62,
   "outputs": [],
   "source": [
    "randCount = []\n",
    "for i in range(int(wantedSize)):\n",
    "    # 生成范围在 0~30 的、服从正态分布的随机数\n",
    "    randCount.append(int(random.gauss(15, 5)))"
   ],
   "metadata": {
    "collapsed": false
   }
  },
  {
   "cell_type": "code",
   "execution_count": 63,
   "outputs": [
    {
     "data": {
      "text/plain": "[25, 16, 20, 18, 6, 21, 9, 16, 22, 14]"
     },
     "execution_count": 63,
     "metadata": {},
     "output_type": "execute_result"
    }
   ],
   "source": [
    "randCount[:10]"
   ],
   "metadata": {
    "collapsed": false
   }
  },
  {
   "cell_type": "code",
   "execution_count": 64,
   "outputs": [],
   "source": [
    "count = {}\n",
    "\n",
    "for i in range(len(randCount)):\n",
    "    # 处理 randCount[i] < 1 的情况\n",
    "    if randCount[i] < 1:\n",
    "        randCount[i] = 1\n",
    "    # 处理 randCount[i] > 30 的情况\n",
    "    if randCount[i] > 30:\n",
    "        randCount[i] = 30\n",
    "    # 统计次数\n",
    "    if randCount[i] in count:\n",
    "        count[randCount[i]] += 1\n",
    "    else:\n",
    "        count[randCount[i]] = 1"
   ],
   "metadata": {
    "collapsed": false
   }
  },
  {
   "cell_type": "code",
   "execution_count": 65,
   "outputs": [
    {
     "data": {
      "text/plain": "{25: 11,\n 16: 110,\n 20: 47,\n 18: 82,\n 6: 27,\n 21: 36,\n 9: 43,\n 22: 28,\n 14: 100,\n 17: 76,\n 12: 87,\n 10: 66,\n 29: 2,\n 11: 75,\n 19: 46,\n 27: 5,\n 26: 11,\n 13: 98,\n 15: 89,\n 2: 6,\n 5: 21,\n 4: 7,\n 28: 2,\n 24: 8,\n 8: 51,\n 23: 20,\n 1: 6,\n 7: 31,\n 3: 9}"
     },
     "execution_count": 65,
     "metadata": {},
     "output_type": "execute_result"
    }
   ],
   "source": [
    "count"
   ],
   "metadata": {
    "collapsed": false
   }
  },
  {
   "cell_type": "markdown",
   "source": [
    "The length of each randomly generated Comment is counted as:"
   ],
   "metadata": {
    "collapsed": false
   }
  },
  {
   "cell_type": "code",
   "execution_count": 66,
   "outputs": [
    {
     "data": {
      "text/plain": "<Figure size 640x480 with 1 Axes>",
      "image/png": "[encoded data removed]"
     },
     "metadata": {},
     "output_type": "display_data"
    }
   ],
   "source": [
    "x = count.keys()\n",
    "y = count.values()\n",
    "\n",
    "plt.scatter(x, y)\n",
    "plt.show()"
   ],
   "metadata": {
    "collapsed": false
   }
  },
  {
   "cell_type": "markdown",
   "source": [
    "Probability distribution of the categories of Comments based on the observation of LANCET data:\n",
    "- 6 Content+(CP) 10%，6 Content-(CN) 10%\n",
    "- 12 Language+(LP) 5%，12 Language-(LN) 55%\n",
    "- 6 Organization+(OP) 10%，6 Organization-(ON) 10%"
   ],
   "metadata": {
    "collapsed": false
   }
  },
  {
   "cell_type": "code",
   "execution_count": 72,
   "outputs": [],
   "source": [
    "# 定义输出的 Dataset（Comments 和 Labels）\n",
    "comments = []\n",
    "labels = []\n",
    "# 设定偏移量（即每种类型的 Comments 之间的差异）\n",
    "offset = 6\n",
    "# 评论种类\n",
    "commentType = ['CP', 'CN', 'LP', 'LN', 'OP', 'ON']\n",
    "\n",
    "for i, countCurrentEssayComment in enumerate(randCount):\n",
    "    # 判断当前是第几个 Type\n",
    "    currentType = int(i // (wantedSize / 6))\n",
    "    # 存储当前 Essay 的标签\n",
    "    labels.append(commentType[currentType])\n",
    "    # 生成当前 Essay 的 Comments\n",
    "    currentEssayComments = []\n",
    "    for currentComment in range(countCurrentEssayComment):\n",
    "        # 根据偏移量 以及 当前的 Type 生成相应的分布\n",
    "        commentTypeWeights = [0.1, 0.1, 0.05, 0.55, 0.1, 0.1]\n",
    "        commentTypeWeights[currentType] = round(commentTypeWeights[currentType] + 0.05 * offset, 2)\n",
    "        for i in range(6):\n",
    "            if i != currentType:\n",
    "                commentTypeWeights[i] = round(commentTypeWeights[i] - 0.01 * offset, 2)\n",
    "        # 根据上面生成的分布 生成一个评论\n",
    "        randCommentType = random.choices(commentType, commentTypeWeights)[0]\n",
    "\n",
    "        if randCommentType in ['CP', 'CN', 'OP', 'ON']:\n",
    "            currentEssayComments.append(randCommentType + str(random.randint(1, 6)))\n",
    "        elif randCommentType in ['LP', 'LN']:\n",
    "            currentEssayComments.append(randCommentType + str(random.randint(1, 12)))\n",
    "    comments.append(' '.join(currentEssayComments))"
   ],
   "metadata": {
    "collapsed": false
   }
  },
  {
   "cell_type": "code",
   "execution_count": 73,
   "outputs": [
    {
     "data": {
      "text/plain": "['LN7 LN6 CP6 LN10 LN8 CP3 LN8 CP6 LN4 LN3 CN5 CP5 CP4 CP5 CP3 LN12 CP6 LN9 LN7 LN10 LN8 LN3 CP4 LN8 CP4',\n 'CP5 LN4 LN2 CP4 CP5 LN11 LN8 CP2 CP4 LN9 CP3 OP3 CP6 LN5 LN4 CP1',\n 'LN9 LN12 CP1 CP3 LN1 CP1 LN5 CP5 CP2 CP2 LN9 LN5 CP1 CP5 LN12 CN1 CP3 CN2 CP5 LN2',\n 'LN7 CP1 LN12 CP6 LN9 CP2 CP3 CP6 LN2 CP6 CP1 CP5 LN8 CP4 LN2 CP4 LN6 CP1',\n 'LN4 ON6 ON3 LN8 LN1 LN7',\n 'CP4 ON1 LN2 LN2 LN12 CP6 LN8 LN8 CP1 OP2 CP5 LN3 CN2 CP6 LN10 OP1 CN4 OP5 CP1 CP4 CP2',\n 'LN10 CP4 CP1 CP1 OP4 LN3 CP3 LN8 CP4',\n 'CP2 LN12 CP2 CP5 CP1 CP1 LN11 CP1 LN5 CP3 LN9 LN12 LN7 LN1 CP1 LN12',\n 'LN11 LN9 CP1 LN4 LN1 CP6 LN12 CN2 LN10 CP3 CN5 LN2 CP2 LN8 LN11 CP1 ON6 CP4 OP4 CP3 CP4 CP1',\n 'LN9 OP5 LN12 LN10 LN2 LN8 LN10 ON3 LN3 CP6 CP4 LN2 CP4 CP5']"
     },
     "execution_count": 73,
     "metadata": {},
     "output_type": "execute_result"
    }
   ],
   "source": [
    "comments[:10]"
   ],
   "metadata": {
    "collapsed": false
   }
  },
  {
   "cell_type": "code",
   "execution_count": 74,
   "outputs": [
    {
     "data": {
      "text/plain": "['CP', 'CP', 'CP', 'CP', 'CP', 'CP', 'CP', 'CP', 'CP', 'CP']"
     },
     "execution_count": 74,
     "metadata": {},
     "output_type": "execute_result"
    }
   ],
   "source": [
    "labels[:10]"
   ],
   "metadata": {
    "collapsed": false
   }
  },
  {
   "cell_type": "code",
   "execution_count": 75,
   "outputs": [],
   "source": [
    "with open('sixTypes-GeneratedComments.txt', 'w', encoding='utf-8') as f:\n",
    "    f.writelines('\\n'.join(comments))"
   ],
   "metadata": {
    "collapsed": false
   }
  },
  {
   "cell_type": "code",
   "execution_count": 76,
   "outputs": [],
   "source": [
    "with open('sixTypes-GeneratedLabels.txt', 'w', encoding='utf-8') as f:\n",
    "    f.writelines('\\n'.join(labels))"
   ],
   "metadata": {
    "collapsed": false
   }
  },
  {
   "cell_type": "code",
   "execution_count": null,
   "outputs": [],
   "source": [],
   "metadata": {
    "collapsed": false
   }
  }
 ],
 "metadata": {
  "kernelspec": {
   "display_name": "Python 3",
   "language": "python",
   "name": "python3"
  },
  "language_info": {
   "codemirror_mode": {
    "name": "ipython",
    "version": 2
   },
   "file_extension": ".py",
   "mimetype": "text/x-python",
   "name": "python",
   "nbconvert_exporter": "python",
   "pygments_lexer": "ipython2",
   "version": "2.7.6"
  }
 },
 "nbformat": 4,
 "nbformat_minor": 0
}
