{
 "cells": [
  {
   "cell_type": "code",
   "execution_count": 1,
   "outputs": [],
   "source": [
    "import pickle\n",
    "# 导入向量化后的数据集\n",
    "np_vectorized_tfidf = pickle.load(open('model/vectorized_generated_corpus_CTWDoc2vec.pkl', 'rb'))"
   ],
   "metadata": {
    "collapsed": false
   }
  },
  {
   "cell_type": "code",
   "execution_count": 2,
   "outputs": [],
   "source": [
    "# 读入正确标签（Labels）\n",
    "labels = []\n",
    "# 读入数据集\n",
    "with open('sixTypes-GeneratedLabels.txt', 'r', encoding='utf-8') as f:\n",
    "    for line in f.readlines():\n",
    "        labels.append(line.strip('\\n'))"
   ],
   "metadata": {
    "collapsed": false
   }
  },
  {
   "cell_type": "code",
   "execution_count": 3,
   "outputs": [
    {
     "name": "stdout",
     "output_type": "stream",
     "text": [
      "Fitting 5 folds for each of 10 candidates, totalling 50 fits\n",
      "[CV 1/5] END kmeans__n_clusters=6, lle__n_components=3, lle__n_neighbors=27;, score=0.012 total time=   0.6s\n",
      "[CV 2/5] END kmeans__n_clusters=6, lle__n_components=3, lle__n_neighbors=27;, score=0.514 total time=   0.4s\n",
      "[CV 3/5] END kmeans__n_clusters=6, lle__n_components=3, lle__n_neighbors=27;, score=0.510 total time=   0.5s\n",
      "[CV 4/5] END kmeans__n_clusters=6, lle__n_components=3, lle__n_neighbors=27;, score=0.261 total time=   0.3s\n",
      "[CV 5/5] END kmeans__n_clusters=6, lle__n_components=3, lle__n_neighbors=27;, score=0.019 total time=   0.5s\n",
      "[CV 1/5] END kmeans__n_clusters=6, lle__n_components=7, lle__n_neighbors=23;, score=0.461 total time=   0.4s\n",
      "[CV 2/5] END kmeans__n_clusters=6, lle__n_components=7, lle__n_neighbors=23;, score=0.689 total time=   0.5s\n",
      "[CV 3/5] END kmeans__n_clusters=6, lle__n_components=7, lle__n_neighbors=23;, score=0.609 total time=   0.4s\n",
      "[CV 4/5] END kmeans__n_clusters=6, lle__n_components=7, lle__n_neighbors=23;, score=0.077 total time=   0.4s\n",
      "[CV 5/5] END kmeans__n_clusters=6, lle__n_components=7, lle__n_neighbors=23;, score=0.007 total time=   0.5s\n",
      "[CV 1/5] END kmeans__n_clusters=6, lle__n_components=5, lle__n_neighbors=21;, score=0.592 total time=   0.5s\n",
      "[CV 2/5] END kmeans__n_clusters=6, lle__n_components=5, lle__n_neighbors=21;, score=0.526 total time=   0.4s\n",
      "[CV 3/5] END kmeans__n_clusters=6, lle__n_components=5, lle__n_neighbors=21;, score=0.591 total time=   0.3s\n",
      "[CV 4/5] END kmeans__n_clusters=6, lle__n_components=5, lle__n_neighbors=21;, score=0.327 total time=   0.5s\n",
      "[CV 5/5] END kmeans__n_clusters=6, lle__n_components=5, lle__n_neighbors=21;, score=0.433 total time=   0.4s\n",
      "[CV 1/5] END kmeans__n_clusters=6, lle__n_components=4, lle__n_neighbors=21;, score=0.592 total time=   0.3s\n",
      "[CV 2/5] END kmeans__n_clusters=6, lle__n_components=4, lle__n_neighbors=21;, score=0.760 total time=   0.2s\n",
      "[CV 3/5] END kmeans__n_clusters=6, lle__n_components=4, lle__n_neighbors=21;, score=0.624 total time=   0.2s\n",
      "[CV 4/5] END kmeans__n_clusters=6, lle__n_components=4, lle__n_neighbors=21;, score=0.352 total time=   0.3s\n",
      "[CV 5/5] END kmeans__n_clusters=6, lle__n_components=4, lle__n_neighbors=21;, score=0.418 total time=   0.3s\n",
      "[CV 1/5] END kmeans__n_clusters=6, lle__n_components=6, lle__n_neighbors=22;, score=0.410 total time=   0.3s\n",
      "[CV 2/5] END kmeans__n_clusters=6, lle__n_components=6, lle__n_neighbors=22;, score=0.689 total time=   0.4s\n",
      "[CV 3/5] END kmeans__n_clusters=6, lle__n_components=6, lle__n_neighbors=22;, score=0.577 total time=   0.4s\n",
      "[CV 4/5] END kmeans__n_clusters=6, lle__n_components=6, lle__n_neighbors=22;, score=0.272 total time=   0.3s\n",
      "[CV 5/5] END kmeans__n_clusters=6, lle__n_components=6, lle__n_neighbors=22;, score=0.303 total time=   0.3s\n",
      "[CV 1/5] END kmeans__n_clusters=6, lle__n_components=7, lle__n_neighbors=9;, score=0.474 total time=   0.1s\n",
      "[CV 2/5] END kmeans__n_clusters=6, lle__n_components=7, lle__n_neighbors=9;, score=0.633 total time=   0.1s\n",
      "[CV 3/5] END kmeans__n_clusters=6, lle__n_components=7, lle__n_neighbors=9;, score=0.631 total time=   0.1s\n",
      "[CV 4/5] END kmeans__n_clusters=6, lle__n_components=7, lle__n_neighbors=9;, score=0.008 total time=   0.1s\n",
      "[CV 5/5] END kmeans__n_clusters=6, lle__n_components=7, lle__n_neighbors=9;, score=0.535 total time=   0.1s\n",
      "[CV 1/5] END kmeans__n_clusters=6, lle__n_components=2, lle__n_neighbors=19;, score=0.415 total time=   0.2s\n",
      "[CV 2/5] END kmeans__n_clusters=6, lle__n_components=2, lle__n_neighbors=19;, score=0.645 total time=   0.2s\n",
      "[CV 3/5] END kmeans__n_clusters=6, lle__n_components=2, lle__n_neighbors=19;, score=0.491 total time=   0.2s\n",
      "[CV 4/5] END kmeans__n_clusters=6, lle__n_components=2, lle__n_neighbors=19;, score=0.024 total time=   0.2s\n",
      "[CV 5/5] END kmeans__n_clusters=6, lle__n_components=2, lle__n_neighbors=19;, score=0.405 total time=   0.2s\n",
      "[CV 1/5] END kmeans__n_clusters=6, lle__n_components=6, lle__n_neighbors=13;, score=0.537 total time=   0.1s\n",
      "[CV 2/5] END kmeans__n_clusters=6, lle__n_components=6, lle__n_neighbors=13;, score=0.621 total time=   0.1s\n",
      "[CV 3/5] END kmeans__n_clusters=6, lle__n_components=6, lle__n_neighbors=13;, score=0.628 total time=   0.1s\n",
      "[CV 4/5] END kmeans__n_clusters=6, lle__n_components=6, lle__n_neighbors=13;, score=0.027 total time=   0.2s\n",
      "[CV 5/5] END kmeans__n_clusters=6, lle__n_components=6, lle__n_neighbors=13;, score=0.321 total time=   0.1s\n",
      "[CV 1/5] END kmeans__n_clusters=6, lle__n_components=7, lle__n_neighbors=2;, score=nan total time=   0.0s\n",
      "[CV 2/5] END kmeans__n_clusters=6, lle__n_components=7, lle__n_neighbors=2;, score=nan total time=   0.0s\n",
      "[CV 3/5] END kmeans__n_clusters=6, lle__n_components=7, lle__n_neighbors=2;, score=nan total time=   0.0s\n",
      "[CV 4/5] END kmeans__n_clusters=6, lle__n_components=7, lle__n_neighbors=2;, score=nan total time=   0.0s\n",
      "[CV 5/5] END kmeans__n_clusters=6, lle__n_components=7, lle__n_neighbors=2;, score=nan total time=   0.0s\n",
      "[CV 1/5] END kmeans__n_clusters=6, lle__n_components=4, lle__n_neighbors=13;, score=0.647 total time=   0.1s\n",
      "[CV 2/5] END kmeans__n_clusters=6, lle__n_components=4, lle__n_neighbors=13;, score=0.485 total time=   0.2s\n",
      "[CV 3/5] END kmeans__n_clusters=6, lle__n_components=4, lle__n_neighbors=13;, score=0.665 total time=   0.1s\n",
      "[CV 4/5] END kmeans__n_clusters=6, lle__n_components=4, lle__n_neighbors=13;, score=0.047 total time=   0.1s\n",
      "[CV 5/5] END kmeans__n_clusters=6, lle__n_components=4, lle__n_neighbors=13;, score=0.382 total time=   0.1s\n"
     ]
    },
    {
     "name": "stderr",
     "output_type": "stream",
     "text": [
      "C:\\Users\\yising\\anaconda3\\lib\\site-packages\\sklearn\\model_selection\\_validation.py:372: FitFailedWarning: \n",
      "5 fits failed out of a total of 50.\n",
      "The score on these train-test partitions for these parameters will be set to nan.\n",
      "If these failures are not expected, you can try to debug them by setting error_score='raise'.\n",
      "\n",
      "Below are more details about the failures:\n",
      "--------------------------------------------------------------------------------\n",
      "5 fits failed with the following error:\n",
      "Traceback (most recent call last):\n",
      "  File \"C:\\Users\\yising\\anaconda3\\lib\\site-packages\\sklearn\\manifold\\_locally_linear.py\", line 168, in null_space\n",
      "    eigen_values, eigen_vectors = eigsh(\n",
      "  File \"C:\\Users\\yising\\anaconda3\\lib\\site-packages\\scipy\\sparse\\linalg\\_eigen\\arpack\\arpack.py\", line 1643, in eigsh\n",
      "    Minv_matvec = get_OPinv_matvec(A, M, sigma,\n",
      "  File \"C:\\Users\\yising\\anaconda3\\lib\\site-packages\\scipy\\sparse\\linalg\\_eigen\\arpack\\arpack.py\", line 1057, in get_OPinv_matvec\n",
      "    return get_inv_matvec(A, hermitian=hermitian, tol=tol)\n",
      "  File \"C:\\Users\\yising\\anaconda3\\lib\\site-packages\\scipy\\sparse\\linalg\\_eigen\\arpack\\arpack.py\", line 1050, in get_inv_matvec\n",
      "    return SpLuInv(M).matvec\n",
      "  File \"C:\\Users\\yising\\anaconda3\\lib\\site-packages\\scipy\\sparse\\linalg\\_eigen\\arpack\\arpack.py\", line 912, in __init__\n",
      "    self.M_lu = splu(M)\n",
      "  File \"C:\\Users\\yising\\anaconda3\\lib\\site-packages\\scipy\\sparse\\linalg\\_dsolve\\linsolve.py\", line 366, in splu\n",
      "    return _superlu.gstrf(N, A.nnz, A.data, A.indices, A.indptr,\n",
      "RuntimeError: Factor is exactly singular\n",
      "\n",
      "The above exception was the direct cause of the following exception:\n",
      "\n",
      "Traceback (most recent call last):\n",
      "  File \"C:\\Users\\yising\\anaconda3\\lib\\site-packages\\sklearn\\model_selection\\_validation.py\", line 680, in _fit_and_score\n",
      "    estimator.fit(X_train, y_train, **fit_params)\n",
      "  File \"C:\\Users\\yising\\anaconda3\\lib\\site-packages\\sklearn\\pipeline.py\", line 390, in fit\n",
      "    Xt = self._fit(X, y, **fit_params_steps)\n",
      "  File \"C:\\Users\\yising\\anaconda3\\lib\\site-packages\\sklearn\\pipeline.py\", line 348, in _fit\n",
      "    X, fitted_transformer = fit_transform_one_cached(\n",
      "  File \"C:\\Users\\yising\\anaconda3\\lib\\site-packages\\joblib\\memory.py\", line 349, in __call__\n",
      "    return self.func(*args, **kwargs)\n",
      "  File \"C:\\Users\\yising\\anaconda3\\lib\\site-packages\\sklearn\\pipeline.py\", line 893, in _fit_transform_one\n",
      "    res = transformer.fit_transform(X, y, **fit_params)\n",
      "  File \"C:\\Users\\yising\\anaconda3\\lib\\site-packages\\sklearn\\manifold\\_locally_linear.py\", line 767, in fit_transform\n",
      "    self._fit_transform(X)\n",
      "  File \"C:\\Users\\yising\\anaconda3\\lib\\site-packages\\sklearn\\manifold\\_locally_linear.py\", line 717, in _fit_transform\n",
      "    self.embedding_, self.reconstruction_error_ = locally_linear_embedding(\n",
      "  File \"C:\\Users\\yising\\anaconda3\\lib\\site-packages\\sklearn\\manifold\\_locally_linear.py\", line 534, in locally_linear_embedding\n",
      "    return null_space(\n",
      "  File \"C:\\Users\\yising\\anaconda3\\lib\\site-packages\\sklearn\\manifold\\_locally_linear.py\", line 172, in null_space\n",
      "    raise ValueError(\n",
      "ValueError: Error in determining null-space with ARPACK. Error message: 'Factor is exactly singular'. Note that eigen_solver='arpack' can fail when the weight matrix is singular or otherwise ill-behaved. In that case, eigen_solver='dense' is recommended. See online documentation for more information.\n",
      "\n",
      "  warnings.warn(some_fits_failed_message, FitFailedWarning)\n",
      "C:\\Users\\yising\\anaconda3\\lib\\site-packages\\sklearn\\model_selection\\_search.py:969: UserWarning: One or more of the test scores are non-finite: [0.26291295 0.36880894 0.49393859 0.5491837  0.45027423 0.45638355\n",
      " 0.3959124  0.42682311        nan 0.44530052]\n",
      "  warnings.warn(\n"
     ]
    },
    {
     "name": "stdout",
     "output_type": "stream",
     "text": [
      "best_estimator Pipeline(steps=[('lle', LocallyLinearEmbedding(n_components=4, n_neighbors=21)),\n",
      "                ('kmeans', KMeans(n_clusters=6, random_state=9))])\n",
      "V-measure: 0.5344737706463687\n"
     ]
    }
   ],
   "source": [
    "# 利用 RandomizedSearchCV 搜索不同的 维度 和 gamma 值来找到最优解（利用 V-measure 评估）\n",
    "\n",
    "# Import required libraries\n",
    "from sklearn.model_selection import RandomizedSearchCV\n",
    "from sklearn.manifold import LocallyLinearEmbedding\n",
    "from sklearn.cluster import KMeans\n",
    "from sklearn.pipeline import Pipeline\n",
    "from sklearn.metrics import v_measure_score\n",
    "\n",
    "# Define the parameter values that want to search\n",
    "param_grid = {\n",
    "    'lle__n_components': range(2, 11),\n",
    "    'lle__n_neighbors': range(2, 31),\n",
    "    'kmeans__n_clusters': range(6, 7)\n",
    "}\n",
    "\n",
    "# Define a scoring function that takes in y_true and y_pred as arguments and returns the v_measure_score\n",
    "def v_measure_scorer(estimator, X, y_true):\n",
    "    y_pred = estimator.predict(X)\n",
    "    return v_measure_score(y_true, y_pred)\n",
    "\n",
    "# Create a randomize search object\n",
    "lle = LocallyLinearEmbedding()\n",
    "kmeans = KMeans(init='k-means++', random_state=9)\n",
    "model = Pipeline([('lle', lle), ('kmeans', kmeans)])\n",
    "random_search = RandomizedSearchCV(model, param_distributions=param_grid, n_iter=10, cv=5, random_state=9, scoring=v_measure_scorer, verbose=3)\n",
    "\n",
    "# Fit the random search object to the data\n",
    "random_search.fit(np_vectorized_tfidf, labels)\n",
    "\n",
    "# Get the best estimator\n",
    "best_estimator = random_search.best_estimator_\n",
    "print('best_estimator', best_estimator)\n",
    "\n",
    "# Use the best estimator to make predictions\n",
    "y_pred = best_estimator.predict(np_vectorized_tfidf)\n",
    "\n",
    "# Use V-measure to evaluate the clustering results\n",
    "score = v_measure_score(labels, y_pred)\n",
    "print('V-measure:', score)"
   ],
   "metadata": {
    "collapsed": false
   }
  },
  {
   "cell_type": "code",
   "execution_count": 4,
   "outputs": [],
   "source": [
    "from sklearn.manifold import LocallyLinearEmbedding\n",
    "# 选用最优解维数用 LLE 降维\n",
    "lle = LocallyLinearEmbedding(n_components=4, n_neighbors=21)\n",
    "decomposition_data = lle.fit_transform(np_vectorized_tfidf)"
   ],
   "metadata": {
    "collapsed": false
   }
  },
  {
   "cell_type": "code",
   "execution_count": 5,
   "outputs": [],
   "source": [
    "# 选用 k 值做 K-means 算法聚类\n",
    "y_pred = KMeans(n_clusters=6, init='k-means++', random_state=9).fit_predict(decomposition_data)"
   ],
   "metadata": {
    "collapsed": false
   }
  },
  {
   "cell_type": "code",
   "execution_count": 6,
   "outputs": [
    {
     "name": "stdout",
     "output_type": "stream",
     "text": [
      "[3 3 3 3 1 5 3 3 3 3]\n"
     ]
    }
   ],
   "source": [
    "print(y_pred[:10])"
   ],
   "metadata": {
    "collapsed": false
   }
  },
  {
   "cell_type": "code",
   "execution_count": 7,
   "outputs": [],
   "source": [
    "from sklearn import metrics"
   ],
   "metadata": {
    "collapsed": false
   }
  },
  {
   "cell_type": "code",
   "execution_count": 8,
   "outputs": [
    {
     "name": "stdout",
     "output_type": "stream",
     "text": [
      "609.15\n",
      "0.3931\n",
      "0.5146\n",
      "0.5528\n",
      "0.5330\n",
      "0.3595\n",
      "0.5302\n",
      "0.4833\n"
     ]
    }
   ],
   "source": [
    "print('%.2f' % metrics.calinski_harabasz_score(decomposition_data, y_pred))\n",
    "km = KMeans(n_clusters=6, random_state=9)\n",
    "y_pred = km.fit_predict(decomposition_data)\n",
    "print('%.4f' % metrics.silhouette_score(decomposition_data, km.labels_, metric='euclidean'))\n",
    "print('%.4f' % metrics.homogeneity_score(labels, y_pred))\n",
    "print('%.4f' % metrics.completeness_score(labels, y_pred))\n",
    "print('%.4f' % metrics.v_measure_score(labels, y_pred))\n",
    "print('%.4f' % metrics.adjusted_rand_score(labels, y_pred))\n",
    "print('%.4f' % metrics.adjusted_mutual_info_score(labels, y_pred))\n",
    "print('%.4f' % metrics.fowlkes_mallows_score(labels, y_pred))"
   ],
   "metadata": {
    "collapsed": false
   }
  },
  {
   "cell_type": "code",
   "execution_count": 80,
   "outputs": [
    {
     "data": {
      "text/plain": "8358.12173286958"
     },
     "execution_count": 80,
     "metadata": {},
     "output_type": "execute_result"
    }
   ],
   "source": [
    "# 利用 Calinski Harabasz Score 评估当前 K-Means 聚类效果（利用 TFIDF 表征）\n",
    "metrics.calinski_harabasz_score(decomposition_data, y_pred)"
   ],
   "metadata": {
    "collapsed": false
   }
  },
  {
   "cell_type": "code",
   "execution_count": 81,
   "outputs": [
    {
     "data": {
      "text/plain": "0.7227561603932742"
     },
     "execution_count": 81,
     "metadata": {},
     "output_type": "execute_result"
    }
   ],
   "source": [
    "# 利用 Silhouette Score（轮廓系数）评估当前 K-Means 聚类效果（利用 TFIDF 表征）\n",
    "km = KMeans(n_clusters=6, random_state=9)\n",
    "y_pred = km.fit_predict(decomposition_data)\n",
    "metrics.silhouette_score(decomposition_data, km.labels_, metric='euclidean')"
   ],
   "metadata": {
    "collapsed": false
   }
  },
  {
   "cell_type": "code",
   "execution_count": 82,
   "outputs": [],
   "source": [
    "# 读入正确标签（Labels）\n",
    "labels = []\n",
    "# 读入数据集\n",
    "with open('sixTypes-GeneratedLabels.txt', 'r', encoding='utf-8') as f:\n",
    "    for line in f.readlines():\n",
    "        labels.append(line.strip('\\n'))"
   ],
   "metadata": {
    "collapsed": false
   }
  },
  {
   "cell_type": "code",
   "execution_count": 83,
   "outputs": [
    {
     "data": {
      "text/plain": "['CP', 'CP', 'CP', 'CP', 'CP', 'CP', 'CP', 'CP', 'CP', 'CP']"
     },
     "execution_count": 83,
     "metadata": {},
     "output_type": "execute_result"
    }
   ],
   "source": [
    "labels[:10]"
   ],
   "metadata": {
    "collapsed": false
   }
  },
  {
   "cell_type": "code",
   "execution_count": 84,
   "outputs": [
    {
     "data": {
      "text/plain": "0.682122778322645"
     },
     "execution_count": 84,
     "metadata": {},
     "output_type": "execute_result"
    }
   ],
   "source": [
    "# 利用 Homogeneity 评估当前 K-Means 聚类效果（利用 TFIDF 表征）\n",
    "metrics.homogeneity_score(labels, y_pred)"
   ],
   "metadata": {
    "collapsed": false
   }
  },
  {
   "cell_type": "code",
   "execution_count": 85,
   "outputs": [
    {
     "data": {
      "text/plain": "0.7476119515684342"
     },
     "execution_count": 85,
     "metadata": {},
     "output_type": "execute_result"
    }
   ],
   "source": [
    "# 利用 Completeness 评估当前 K-Means 聚类效果（利用 TFIDF 表征）\n",
    "metrics.completeness_score(labels, y_pred)"
   ],
   "metadata": {
    "collapsed": false
   }
  },
  {
   "cell_type": "code",
   "execution_count": 86,
   "outputs": [
    {
     "data": {
      "text/plain": "0.7133674951715347"
     },
     "execution_count": 86,
     "metadata": {},
     "output_type": "execute_result"
    }
   ],
   "source": [
    "# 利用 V-measure 评估当前 K-Means 聚类效果（利用 TFIDF 表征）\n",
    "metrics.v_measure_score(labels, y_pred)"
   ],
   "metadata": {
    "collapsed": false
   }
  },
  {
   "cell_type": "code",
   "execution_count": 87,
   "outputs": [
    {
     "data": {
      "text/plain": "0.5925578028425994"
     },
     "execution_count": 87,
     "metadata": {},
     "output_type": "execute_result"
    }
   ],
   "source": [
    "# 利用 Adjusted Rand Index（调整兰德系数）评估当前 K-Means 聚类效果（利用 TFIDF 表征）\n",
    "metrics.adjusted_rand_score(labels, y_pred)"
   ],
   "metadata": {
    "collapsed": false
   }
  },
  {
   "cell_type": "code",
   "execution_count": 88,
   "outputs": [
    {
     "data": {
      "text/plain": "0.7115960614082019"
     },
     "execution_count": 88,
     "metadata": {},
     "output_type": "execute_result"
    }
   ],
   "source": [
    "# 利用 Adjusted Mutual Information Score（调整互信息）评估当前 K-Means 聚类效果（利用 TFIDF 表征）\n",
    "metrics.adjusted_mutual_info_score(labels, y_pred)"
   ],
   "metadata": {
    "collapsed": false
   }
  },
  {
   "cell_type": "code",
   "execution_count": 89,
   "outputs": [
    {
     "data": {
      "text/plain": "0.6776284744379846"
     },
     "execution_count": 89,
     "metadata": {},
     "output_type": "execute_result"
    }
   ],
   "source": [
    "# 利用 Fowlkes-Mallows scores 评估当前 K-Means 聚类效果（利用 TFIDF 表征）\n",
    "metrics.fowlkes_mallows_score(labels, y_pred)"
   ],
   "metadata": {
    "collapsed": false
   }
  },
  {
   "cell_type": "code",
   "execution_count": null,
   "outputs": [],
   "source": [],
   "metadata": {
    "collapsed": false
   }
  }
 ],
 "metadata": {
  "kernelspec": {
   "display_name": "Python 3",
   "language": "python",
   "name": "python3"
  },
  "language_info": {
   "codemirror_mode": {
    "name": "ipython",
    "version": 2
   },
   "file_extension": ".py",
   "mimetype": "text/x-python",
   "name": "python",
   "nbconvert_exporter": "python",
   "pygments_lexer": "ipython2",
   "version": "2.7.6"
  }
 },
 "nbformat": 4,
 "nbformat_minor": 0
}
